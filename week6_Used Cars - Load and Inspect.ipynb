{
 "cells": [
  {
   "cell_type": "markdown",
   "id": "32373d56",
   "metadata": {},
   "source": [
    "# Used Cars Dataset Loading and Inspection\n",
    "\n",
    "In this notebook, we import the German Used Cars dataset (in its translated version) and perform some initial checks to ensure it is ready for the next step, namely EDA.\n",
    "\n",
    "## Project Goal\n",
    "Let us imagine a scenario for this project. Our company wants to deploy a website allowing car owners to get a valuation for their cars, in order to help them decide what price to ask for. The users would enter some information about the car, and the model would return a suggested value.\n",
    "\n",
    "Therefore, the target variable is `price`, and the other features are independent predictors. We are in the setting of a regression task: We are trying to predict a numerical value rather than a category. Note that if we were returning the suggested price as an interval (0-5000, 5000-10,000, 10,000-20,000, etc.), then this could be framed as a classification task and it would probably be easier because the prediction would not need to be as accurate.\n"
   ]
  },
  {
   "cell_type": "markdown",
   "id": "679266ee",
   "metadata": {},
   "source": [
    "## Data Processing"
   ]
  },
  {
   "cell_type": "code",
   "execution_count": 1,
   "id": "b2d6ca96",
   "metadata": {},
   "outputs": [],
   "source": [
    "import numpy as np, pandas as pd\n",
    "import matplotlib.pyplot as plt"
   ]
  },
  {
   "cell_type": "markdown",
   "id": "fab5a439",
   "metadata": {},
   "source": [
    "Let's first take a look a the data without importing it. Remember that Linux terminal commands are accessible in a Jupyter Notebook by using `!`."
   ]
  },
  {
   "cell_type": "code",
   "execution_count": null,
   "id": "7cec7e37",
   "metadata": {
    "tags": []
   },
   "outputs": [],
   "source": [
    "!head -n 10 data/autos_eng.csv"
   ]
  },
  {
   "cell_type": "markdown",
   "id": "940a1223",
   "metadata": {},
   "source": [
    "We see that a mixture of datetime variables (`dateCrawled`, `dateCreated`, `lastSeen`), categorical variables (`seller`, `brand`, `model`, etc.), numerical variables (`price`, `yearOfRegistration`, `kilometer`, etc.), and what seems to be a free text variable (`name`). The variable `postalCode` looks numeric, but in some countries postal codes can have letters, plus they don't really represent something that is quantified numerically. Therefore, it is probably best imported as strings.  \n",
    "We don't really have any field that would make a useful row Index, so we just let Pandas assign the default values.\n",
    "\n",
    "The variable `price` will be contain our labels, i.e. the values we will try to predict when in the modelling phase."
   ]
  },
  {
   "cell_type": "code",
   "execution_count": 3,
   "id": "cb5cc796",
   "metadata": {},
   "outputs": [],
   "source": [
    "cars = pd.read_table(\n",
    "    'data/autos_eng.csv', \n",
    "    sep=',', \n",
    "    parse_dates=[0, 16, 19],\n",
    "    dtype={\n",
    "        'seller': 'category', \n",
    "        'offerType': 'category',\n",
    "        'abtest': 'category' , \n",
    "        'vehicleType': 'category',\n",
    "        'monthOfRegistration': 'category',\n",
    "        'gearbox': 'category',\n",
    "        'model': 'category',\n",
    "        'fuelType': 'category',\n",
    "        'brand': 'category',\n",
    "        'notRepairedDamage': 'category',\n",
    "        'postalCode': 'str'\n",
    "    }\n",
    ")"
   ]
  },
  {
   "cell_type": "code",
   "execution_count": 4,
   "id": "6928e7a9",
   "metadata": {
    "scrolled": true
   },
   "outputs": [
    {
     "data": {
      "text/html": [
       "<div>\n",
       "<style scoped>\n",
       "    .dataframe tbody tr th:only-of-type {\n",
       "        vertical-align: middle;\n",
       "    }\n",
       "\n",
       "    .dataframe tbody tr th {\n",
       "        vertical-align: top;\n",
       "    }\n",
       "\n",
       "    .dataframe thead th {\n",
       "        text-align: right;\n",
       "    }\n",
       "</style>\n",
       "<table border=\"1\" class=\"dataframe\">\n",
       "  <thead>\n",
       "    <tr style=\"text-align: right;\">\n",
       "      <th></th>\n",
       "      <th>dateCrawled</th>\n",
       "      <th>name</th>\n",
       "      <th>seller</th>\n",
       "      <th>offerType</th>\n",
       "      <th>price</th>\n",
       "      <th>abtest</th>\n",
       "      <th>vehicleType</th>\n",
       "      <th>yearOfRegistration</th>\n",
       "      <th>gearbox</th>\n",
       "      <th>powerPS</th>\n",
       "      <th>model</th>\n",
       "      <th>kilometer</th>\n",
       "      <th>monthOfRegistration</th>\n",
       "      <th>fuelType</th>\n",
       "      <th>brand</th>\n",
       "      <th>notRepairedDamage</th>\n",
       "      <th>dateCreated</th>\n",
       "      <th>nrOfPictures</th>\n",
       "      <th>postalCode</th>\n",
       "      <th>lastSeen</th>\n",
       "    </tr>\n",
       "  </thead>\n",
       "  <tbody>\n",
       "    <tr>\n",
       "      <th>0</th>\n",
       "      <td>2016-03-24 11:52:17</td>\n",
       "      <td>Golf_3_1.6</td>\n",
       "      <td>private</td>\n",
       "      <td>selling</td>\n",
       "      <td>480</td>\n",
       "      <td>test</td>\n",
       "      <td>NaN</td>\n",
       "      <td>1993</td>\n",
       "      <td>manual</td>\n",
       "      <td>0</td>\n",
       "      <td>golf</td>\n",
       "      <td>150000</td>\n",
       "      <td>0</td>\n",
       "      <td>petrol</td>\n",
       "      <td>volkswagen</td>\n",
       "      <td>NaN</td>\n",
       "      <td>2016-03-24</td>\n",
       "      <td>0</td>\n",
       "      <td>70435</td>\n",
       "      <td>2016-04-07 03:16:57</td>\n",
       "    </tr>\n",
       "    <tr>\n",
       "      <th>1</th>\n",
       "      <td>2016-03-24 10:58:45</td>\n",
       "      <td>A5_Sportback_2.7_Tdi</td>\n",
       "      <td>private</td>\n",
       "      <td>selling</td>\n",
       "      <td>18300</td>\n",
       "      <td>test</td>\n",
       "      <td>coupe</td>\n",
       "      <td>2011</td>\n",
       "      <td>manual</td>\n",
       "      <td>190</td>\n",
       "      <td>NaN</td>\n",
       "      <td>125000</td>\n",
       "      <td>5</td>\n",
       "      <td>diesel</td>\n",
       "      <td>audi</td>\n",
       "      <td>yes</td>\n",
       "      <td>2016-03-24</td>\n",
       "      <td>0</td>\n",
       "      <td>66954</td>\n",
       "      <td>2016-04-07 01:46:50</td>\n",
       "    </tr>\n",
       "    <tr>\n",
       "      <th>2</th>\n",
       "      <td>2016-03-14 12:52:21</td>\n",
       "      <td>Jeep_Grand_Cherokee_\"Overland\"</td>\n",
       "      <td>private</td>\n",
       "      <td>selling</td>\n",
       "      <td>9800</td>\n",
       "      <td>test</td>\n",
       "      <td>SUV</td>\n",
       "      <td>2004</td>\n",
       "      <td>automatic</td>\n",
       "      <td>163</td>\n",
       "      <td>grand</td>\n",
       "      <td>125000</td>\n",
       "      <td>8</td>\n",
       "      <td>diesel</td>\n",
       "      <td>jeep</td>\n",
       "      <td>NaN</td>\n",
       "      <td>2016-03-14</td>\n",
       "      <td>0</td>\n",
       "      <td>90480</td>\n",
       "      <td>2016-04-05 12:47:46</td>\n",
       "    </tr>\n",
       "    <tr>\n",
       "      <th>3</th>\n",
       "      <td>2016-03-17 16:54:04</td>\n",
       "      <td>GOLF_4_1_4__3TÜRER</td>\n",
       "      <td>private</td>\n",
       "      <td>selling</td>\n",
       "      <td>1500</td>\n",
       "      <td>test</td>\n",
       "      <td>small car</td>\n",
       "      <td>2001</td>\n",
       "      <td>manual</td>\n",
       "      <td>75</td>\n",
       "      <td>golf</td>\n",
       "      <td>150000</td>\n",
       "      <td>6</td>\n",
       "      <td>petrol</td>\n",
       "      <td>volkswagen</td>\n",
       "      <td>no</td>\n",
       "      <td>2016-03-17</td>\n",
       "      <td>0</td>\n",
       "      <td>91074</td>\n",
       "      <td>2016-03-17 17:40:17</td>\n",
       "    </tr>\n",
       "    <tr>\n",
       "      <th>4</th>\n",
       "      <td>2016-03-31 17:25:20</td>\n",
       "      <td>Skoda_Fabia_1.4_TDI_PD_Classic</td>\n",
       "      <td>private</td>\n",
       "      <td>selling</td>\n",
       "      <td>3600</td>\n",
       "      <td>test</td>\n",
       "      <td>small car</td>\n",
       "      <td>2008</td>\n",
       "      <td>manual</td>\n",
       "      <td>69</td>\n",
       "      <td>fabia</td>\n",
       "      <td>90000</td>\n",
       "      <td>7</td>\n",
       "      <td>diesel</td>\n",
       "      <td>skoda</td>\n",
       "      <td>no</td>\n",
       "      <td>2016-03-31</td>\n",
       "      <td>0</td>\n",
       "      <td>60437</td>\n",
       "      <td>2016-04-06 10:17:21</td>\n",
       "    </tr>\n",
       "  </tbody>\n",
       "</table>\n",
       "</div>"
      ],
      "text/plain": [
       "          dateCrawled                            name   seller offerType   \n",
       "0 2016-03-24 11:52:17                      Golf_3_1.6  private   selling  \\\n",
       "1 2016-03-24 10:58:45            A5_Sportback_2.7_Tdi  private   selling   \n",
       "2 2016-03-14 12:52:21  Jeep_Grand_Cherokee_\"Overland\"  private   selling   \n",
       "3 2016-03-17 16:54:04              GOLF_4_1_4__3TÜRER  private   selling   \n",
       "4 2016-03-31 17:25:20  Skoda_Fabia_1.4_TDI_PD_Classic  private   selling   \n",
       "\n",
       "   price abtest vehicleType  yearOfRegistration    gearbox  powerPS  model   \n",
       "0    480   test         NaN                1993     manual        0   golf  \\\n",
       "1  18300   test       coupe                2011     manual      190    NaN   \n",
       "2   9800   test         SUV                2004  automatic      163  grand   \n",
       "3   1500   test   small car                2001     manual       75   golf   \n",
       "4   3600   test   small car                2008     manual       69  fabia   \n",
       "\n",
       "   kilometer monthOfRegistration fuelType       brand notRepairedDamage   \n",
       "0     150000                   0   petrol  volkswagen               NaN  \\\n",
       "1     125000                   5   diesel        audi               yes   \n",
       "2     125000                   8   diesel        jeep               NaN   \n",
       "3     150000                   6   petrol  volkswagen                no   \n",
       "4      90000                   7   diesel       skoda                no   \n",
       "\n",
       "  dateCreated  nrOfPictures postalCode            lastSeen  \n",
       "0  2016-03-24             0      70435 2016-04-07 03:16:57  \n",
       "1  2016-03-24             0      66954 2016-04-07 01:46:50  \n",
       "2  2016-03-14             0      90480 2016-04-05 12:47:46  \n",
       "3  2016-03-17             0      91074 2016-03-17 17:40:17  \n",
       "4  2016-03-31             0      60437 2016-04-06 10:17:21  "
      ]
     },
     "execution_count": 4,
     "metadata": {},
     "output_type": "execute_result"
    }
   ],
   "source": [
    "cars.head()"
   ]
  },
  {
   "cell_type": "code",
   "execution_count": 5,
   "id": "5999d2a2",
   "metadata": {
    "scrolled": true
   },
   "outputs": [
    {
     "data": {
      "text/html": [
       "<div>\n",
       "<style scoped>\n",
       "    .dataframe tbody tr th:only-of-type {\n",
       "        vertical-align: middle;\n",
       "    }\n",
       "\n",
       "    .dataframe tbody tr th {\n",
       "        vertical-align: top;\n",
       "    }\n",
       "\n",
       "    .dataframe thead th {\n",
       "        text-align: right;\n",
       "    }\n",
       "</style>\n",
       "<table border=\"1\" class=\"dataframe\">\n",
       "  <thead>\n",
       "    <tr style=\"text-align: right;\">\n",
       "      <th></th>\n",
       "      <th>dateCrawled</th>\n",
       "      <th>name</th>\n",
       "      <th>seller</th>\n",
       "      <th>offerType</th>\n",
       "      <th>price</th>\n",
       "      <th>abtest</th>\n",
       "      <th>vehicleType</th>\n",
       "      <th>yearOfRegistration</th>\n",
       "      <th>gearbox</th>\n",
       "      <th>powerPS</th>\n",
       "      <th>model</th>\n",
       "      <th>kilometer</th>\n",
       "      <th>monthOfRegistration</th>\n",
       "      <th>fuelType</th>\n",
       "      <th>brand</th>\n",
       "      <th>notRepairedDamage</th>\n",
       "      <th>dateCreated</th>\n",
       "      <th>nrOfPictures</th>\n",
       "      <th>postalCode</th>\n",
       "      <th>lastSeen</th>\n",
       "    </tr>\n",
       "  </thead>\n",
       "  <tbody>\n",
       "    <tr>\n",
       "      <th>371523</th>\n",
       "      <td>2016-03-14 17:48:27</td>\n",
       "      <td>Suche_t4___vito_ab_6_sitze</td>\n",
       "      <td>private</td>\n",
       "      <td>selling</td>\n",
       "      <td>2200</td>\n",
       "      <td>test</td>\n",
       "      <td>NaN</td>\n",
       "      <td>2005</td>\n",
       "      <td>NaN</td>\n",
       "      <td>0</td>\n",
       "      <td>NaN</td>\n",
       "      <td>20000</td>\n",
       "      <td>1</td>\n",
       "      <td>NaN</td>\n",
       "      <td>other</td>\n",
       "      <td>NaN</td>\n",
       "      <td>2016-03-14</td>\n",
       "      <td>0</td>\n",
       "      <td>39576</td>\n",
       "      <td>2016-04-06 00:46:52</td>\n",
       "    </tr>\n",
       "    <tr>\n",
       "      <th>371524</th>\n",
       "      <td>2016-03-05 19:56:21</td>\n",
       "      <td>Smart_smart_leistungssteigerung_100ps</td>\n",
       "      <td>private</td>\n",
       "      <td>selling</td>\n",
       "      <td>1199</td>\n",
       "      <td>test</td>\n",
       "      <td>convertible</td>\n",
       "      <td>2000</td>\n",
       "      <td>automatic</td>\n",
       "      <td>101</td>\n",
       "      <td>fortwo</td>\n",
       "      <td>125000</td>\n",
       "      <td>3</td>\n",
       "      <td>petrol</td>\n",
       "      <td>smart</td>\n",
       "      <td>no</td>\n",
       "      <td>2016-03-05</td>\n",
       "      <td>0</td>\n",
       "      <td>26135</td>\n",
       "      <td>2016-03-11 18:17:12</td>\n",
       "    </tr>\n",
       "    <tr>\n",
       "      <th>371525</th>\n",
       "      <td>2016-03-19 18:57:12</td>\n",
       "      <td>Volkswagen_Multivan_T4_TDI_7DC_UY2</td>\n",
       "      <td>private</td>\n",
       "      <td>selling</td>\n",
       "      <td>9200</td>\n",
       "      <td>test</td>\n",
       "      <td>people carrier</td>\n",
       "      <td>1996</td>\n",
       "      <td>manual</td>\n",
       "      <td>102</td>\n",
       "      <td>transporter</td>\n",
       "      <td>150000</td>\n",
       "      <td>3</td>\n",
       "      <td>diesel</td>\n",
       "      <td>volkswagen</td>\n",
       "      <td>no</td>\n",
       "      <td>2016-03-19</td>\n",
       "      <td>0</td>\n",
       "      <td>87439</td>\n",
       "      <td>2016-04-07 07:15:26</td>\n",
       "    </tr>\n",
       "    <tr>\n",
       "      <th>371526</th>\n",
       "      <td>2016-03-20 19:41:08</td>\n",
       "      <td>VW_Golf_Kombi_1_9l_TDI</td>\n",
       "      <td>private</td>\n",
       "      <td>selling</td>\n",
       "      <td>3400</td>\n",
       "      <td>test</td>\n",
       "      <td>estate</td>\n",
       "      <td>2002</td>\n",
       "      <td>manual</td>\n",
       "      <td>100</td>\n",
       "      <td>golf</td>\n",
       "      <td>150000</td>\n",
       "      <td>6</td>\n",
       "      <td>diesel</td>\n",
       "      <td>volkswagen</td>\n",
       "      <td>NaN</td>\n",
       "      <td>2016-03-20</td>\n",
       "      <td>0</td>\n",
       "      <td>40764</td>\n",
       "      <td>2016-03-24 12:45:21</td>\n",
       "    </tr>\n",
       "    <tr>\n",
       "      <th>371527</th>\n",
       "      <td>2016-03-07 19:39:19</td>\n",
       "      <td>BMW_M135i_vollausgestattet_NP_52.720____Euro</td>\n",
       "      <td>private</td>\n",
       "      <td>selling</td>\n",
       "      <td>28990</td>\n",
       "      <td>control</td>\n",
       "      <td>sedan</td>\n",
       "      <td>2013</td>\n",
       "      <td>manual</td>\n",
       "      <td>320</td>\n",
       "      <td>m_reihe</td>\n",
       "      <td>50000</td>\n",
       "      <td>8</td>\n",
       "      <td>petrol</td>\n",
       "      <td>bmw</td>\n",
       "      <td>no</td>\n",
       "      <td>2016-03-07</td>\n",
       "      <td>0</td>\n",
       "      <td>73326</td>\n",
       "      <td>2016-03-22 03:17:10</td>\n",
       "    </tr>\n",
       "  </tbody>\n",
       "</table>\n",
       "</div>"
      ],
      "text/plain": [
       "               dateCrawled                                          name   \n",
       "371523 2016-03-14 17:48:27                    Suche_t4___vito_ab_6_sitze  \\\n",
       "371524 2016-03-05 19:56:21         Smart_smart_leistungssteigerung_100ps   \n",
       "371525 2016-03-19 18:57:12            Volkswagen_Multivan_T4_TDI_7DC_UY2   \n",
       "371526 2016-03-20 19:41:08                        VW_Golf_Kombi_1_9l_TDI   \n",
       "371527 2016-03-07 19:39:19  BMW_M135i_vollausgestattet_NP_52.720____Euro   \n",
       "\n",
       "         seller offerType  price   abtest     vehicleType  yearOfRegistration   \n",
       "371523  private   selling   2200     test             NaN                2005  \\\n",
       "371524  private   selling   1199     test     convertible                2000   \n",
       "371525  private   selling   9200     test  people carrier                1996   \n",
       "371526  private   selling   3400     test          estate                2002   \n",
       "371527  private   selling  28990  control           sedan                2013   \n",
       "\n",
       "          gearbox  powerPS        model  kilometer monthOfRegistration   \n",
       "371523        NaN        0          NaN      20000                   1  \\\n",
       "371524  automatic      101       fortwo     125000                   3   \n",
       "371525     manual      102  transporter     150000                   3   \n",
       "371526     manual      100         golf     150000                   6   \n",
       "371527     manual      320      m_reihe      50000                   8   \n",
       "\n",
       "       fuelType       brand notRepairedDamage dateCreated  nrOfPictures   \n",
       "371523      NaN       other               NaN  2016-03-14             0  \\\n",
       "371524   petrol       smart                no  2016-03-05             0   \n",
       "371525   diesel  volkswagen                no  2016-03-19             0   \n",
       "371526   diesel  volkswagen               NaN  2016-03-20             0   \n",
       "371527   petrol         bmw                no  2016-03-07             0   \n",
       "\n",
       "       postalCode            lastSeen  \n",
       "371523      39576 2016-04-06 00:46:52  \n",
       "371524      26135 2016-03-11 18:17:12  \n",
       "371525      87439 2016-04-07 07:15:26  \n",
       "371526      40764 2016-03-24 12:45:21  \n",
       "371527      73326 2016-03-22 03:17:10  "
      ]
     },
     "execution_count": 5,
     "metadata": {},
     "output_type": "execute_result"
    }
   ],
   "source": [
    "cars.tail()"
   ]
  },
  {
   "cell_type": "markdown",
   "id": "923b8232",
   "metadata": {},
   "source": [
    "Let's make sure that all columns have been imported in the correct data type:"
   ]
  },
  {
   "cell_type": "code",
   "execution_count": 6,
   "id": "9188a362",
   "metadata": {
    "scrolled": true
   },
   "outputs": [
    {
     "data": {
      "text/plain": [
       "dateCrawled            datetime64[ns]\n",
       "name                           object\n",
       "seller                       category\n",
       "offerType                    category\n",
       "price                           int64\n",
       "abtest                       category\n",
       "vehicleType                  category\n",
       "yearOfRegistration              int64\n",
       "gearbox                      category\n",
       "powerPS                         int64\n",
       "model                        category\n",
       "kilometer                       int64\n",
       "monthOfRegistration          category\n",
       "fuelType                     category\n",
       "brand                        category\n",
       "notRepairedDamage            category\n",
       "dateCreated            datetime64[ns]\n",
       "nrOfPictures                    int64\n",
       "postalCode                     object\n",
       "lastSeen               datetime64[ns]\n",
       "dtype: object"
      ]
     },
     "execution_count": 6,
     "metadata": {},
     "output_type": "execute_result"
    }
   ],
   "source": [
    "cars.dtypes"
   ]
  },
  {
   "cell_type": "markdown",
   "id": "09f88178",
   "metadata": {},
   "source": [
    "The variables that we had identified as numerical as all encoded as such, which means there are no character strings in them. One less thing to worry about."
   ]
  },
  {
   "cell_type": "code",
   "execution_count": 7,
   "id": "0e1bc655",
   "metadata": {},
   "outputs": [
    {
     "data": {
      "text/plain": [
       "Index(['dateCrawled', 'name', 'seller', 'offerType', 'price', 'abtest',\n",
       "       'vehicleType', 'yearOfRegistration', 'gearbox', 'powerPS', 'model',\n",
       "       'kilometer', 'monthOfRegistration', 'fuelType', 'brand',\n",
       "       'notRepairedDamage', 'dateCreated', 'nrOfPictures', 'postalCode',\n",
       "       'lastSeen'],\n",
       "      dtype='object')"
      ]
     },
     "execution_count": 7,
     "metadata": {},
     "output_type": "execute_result"
    }
   ],
   "source": [
    "cars.columns"
   ]
  },
  {
   "cell_type": "code",
   "execution_count": 8,
   "id": "5676b272",
   "metadata": {},
   "outputs": [
    {
     "data": {
      "text/plain": [
       "(371528, 20)"
      ]
     },
     "execution_count": 8,
     "metadata": {},
     "output_type": "execute_result"
    }
   ],
   "source": [
    "cars.shape"
   ]
  },
  {
   "cell_type": "markdown",
   "id": "60c0235d",
   "metadata": {},
   "source": [
    "This is a fairly large dataset as far as small-scale Data Science projects go. This means we have plenty of data to train our models on, but also a lot more potential for noisy observations.\n",
    "\n",
    "First, let's see if any rows are duplicated:"
   ]
  },
  {
   "cell_type": "code",
   "execution_count": 8,
   "id": "69d6e6d1",
   "metadata": {},
   "outputs": [
    {
     "data": {
      "text/plain": [
       "0         False\n",
       "1         False\n",
       "2         False\n",
       "3         False\n",
       "4         False\n",
       "          ...  \n",
       "371523    False\n",
       "371524    False\n",
       "371525    False\n",
       "371526    False\n",
       "371527    False\n",
       "Length: 371528, dtype: bool"
      ]
     },
     "execution_count": 8,
     "metadata": {},
     "output_type": "execute_result"
    }
   ],
   "source": [
    "cars.duplicated()"
   ]
  },
  {
   "cell_type": "code",
   "execution_count": 9,
   "id": "c8eb4325",
   "metadata": {},
   "outputs": [
    {
     "data": {
      "text/html": [
       "<div>\n",
       "<style scoped>\n",
       "    .dataframe tbody tr th:only-of-type {\n",
       "        vertical-align: middle;\n",
       "    }\n",
       "\n",
       "    .dataframe tbody tr th {\n",
       "        vertical-align: top;\n",
       "    }\n",
       "\n",
       "    .dataframe thead th {\n",
       "        text-align: right;\n",
       "    }\n",
       "</style>\n",
       "<table border=\"1\" class=\"dataframe\">\n",
       "  <thead>\n",
       "    <tr style=\"text-align: right;\">\n",
       "      <th></th>\n",
       "      <th>dateCrawled</th>\n",
       "      <th>name</th>\n",
       "      <th>seller</th>\n",
       "      <th>offerType</th>\n",
       "      <th>price</th>\n",
       "      <th>abtest</th>\n",
       "      <th>vehicleType</th>\n",
       "      <th>yearOfRegistration</th>\n",
       "      <th>gearbox</th>\n",
       "      <th>powerPS</th>\n",
       "      <th>model</th>\n",
       "      <th>kilometer</th>\n",
       "      <th>monthOfRegistration</th>\n",
       "      <th>fuelType</th>\n",
       "      <th>brand</th>\n",
       "      <th>notRepairedDamage</th>\n",
       "      <th>dateCreated</th>\n",
       "      <th>nrOfPictures</th>\n",
       "      <th>postalCode</th>\n",
       "      <th>lastSeen</th>\n",
       "    </tr>\n",
       "  </thead>\n",
       "  <tbody>\n",
       "    <tr>\n",
       "      <th>179448</th>\n",
       "      <td>2016-03-08 18:42:48</td>\n",
       "      <td>Mercedes_Benz_CLK_Coupe_230_Kompressor_Sport</td>\n",
       "      <td>private</td>\n",
       "      <td>selling</td>\n",
       "      <td>1799</td>\n",
       "      <td>test</td>\n",
       "      <td>coupe</td>\n",
       "      <td>1999</td>\n",
       "      <td>automatic</td>\n",
       "      <td>193</td>\n",
       "      <td>clk</td>\n",
       "      <td>20000</td>\n",
       "      <td>7</td>\n",
       "      <td>petrol</td>\n",
       "      <td>mercedes_benz</td>\n",
       "      <td>no</td>\n",
       "      <td>2016-03-08</td>\n",
       "      <td>0</td>\n",
       "      <td>89518</td>\n",
       "      <td>2016-03-09 09:46:57</td>\n",
       "    </tr>\n",
       "    <tr>\n",
       "      <th>242556</th>\n",
       "      <td>2016-03-28 00:56:10</td>\n",
       "      <td>Suzuki_Ignis</td>\n",
       "      <td>private</td>\n",
       "      <td>selling</td>\n",
       "      <td>1000</td>\n",
       "      <td>control</td>\n",
       "      <td>small car</td>\n",
       "      <td>2002</td>\n",
       "      <td>manual</td>\n",
       "      <td>83</td>\n",
       "      <td>other</td>\n",
       "      <td>150000</td>\n",
       "      <td>1</td>\n",
       "      <td>petrol</td>\n",
       "      <td>suzuki</td>\n",
       "      <td>no</td>\n",
       "      <td>2016-03-28</td>\n",
       "      <td>0</td>\n",
       "      <td>66589</td>\n",
       "      <td>2016-03-28 08:46:21</td>\n",
       "    </tr>\n",
       "    <tr>\n",
       "      <th>270719</th>\n",
       "      <td>2016-04-03 09:01:15</td>\n",
       "      <td>Mercedes_Benz_CLK_320_W209</td>\n",
       "      <td>private</td>\n",
       "      <td>selling</td>\n",
       "      <td>4699</td>\n",
       "      <td>test</td>\n",
       "      <td>coupe</td>\n",
       "      <td>2003</td>\n",
       "      <td>automatic</td>\n",
       "      <td>218</td>\n",
       "      <td>clk</td>\n",
       "      <td>125000</td>\n",
       "      <td>6</td>\n",
       "      <td>petrol</td>\n",
       "      <td>mercedes_benz</td>\n",
       "      <td>yes</td>\n",
       "      <td>2016-04-03</td>\n",
       "      <td>0</td>\n",
       "      <td>75196</td>\n",
       "      <td>2016-04-07 09:44:54</td>\n",
       "    </tr>\n",
       "    <tr>\n",
       "      <th>341474</th>\n",
       "      <td>2016-03-18 18:46:15</td>\n",
       "      <td>Volkswagen_Passat_Variant_1.9_TDI_Highline</td>\n",
       "      <td>private</td>\n",
       "      <td>selling</td>\n",
       "      <td>1999</td>\n",
       "      <td>control</td>\n",
       "      <td>estate</td>\n",
       "      <td>2001</td>\n",
       "      <td>manual</td>\n",
       "      <td>131</td>\n",
       "      <td>passat</td>\n",
       "      <td>150000</td>\n",
       "      <td>7</td>\n",
       "      <td>diesel</td>\n",
       "      <td>volkswagen</td>\n",
       "      <td>no</td>\n",
       "      <td>2016-03-18</td>\n",
       "      <td>0</td>\n",
       "      <td>36391</td>\n",
       "      <td>2016-03-18 18:46:15</td>\n",
       "    </tr>\n",
       "  </tbody>\n",
       "</table>\n",
       "</div>"
      ],
      "text/plain": [
       "               dateCrawled                                          name   \n",
       "179448 2016-03-08 18:42:48  Mercedes_Benz_CLK_Coupe_230_Kompressor_Sport  \\\n",
       "242556 2016-03-28 00:56:10                                  Suzuki_Ignis   \n",
       "270719 2016-04-03 09:01:15                    Mercedes_Benz_CLK_320_W209   \n",
       "341474 2016-03-18 18:46:15    Volkswagen_Passat_Variant_1.9_TDI_Highline   \n",
       "\n",
       "         seller offerType  price   abtest vehicleType  yearOfRegistration   \n",
       "179448  private   selling   1799     test       coupe                1999  \\\n",
       "242556  private   selling   1000  control   small car                2002   \n",
       "270719  private   selling   4699     test       coupe                2003   \n",
       "341474  private   selling   1999  control      estate                2001   \n",
       "\n",
       "          gearbox  powerPS   model  kilometer monthOfRegistration fuelType   \n",
       "179448  automatic      193     clk      20000                   7   petrol  \\\n",
       "242556     manual       83   other     150000                   1   petrol   \n",
       "270719  automatic      218     clk     125000                   6   petrol   \n",
       "341474     manual      131  passat     150000                   7   diesel   \n",
       "\n",
       "                brand notRepairedDamage dateCreated  nrOfPictures postalCode   \n",
       "179448  mercedes_benz                no  2016-03-08             0      89518  \\\n",
       "242556         suzuki                no  2016-03-28             0      66589   \n",
       "270719  mercedes_benz               yes  2016-04-03             0      75196   \n",
       "341474     volkswagen                no  2016-03-18             0      36391   \n",
       "\n",
       "                  lastSeen  \n",
       "179448 2016-03-09 09:46:57  \n",
       "242556 2016-03-28 08:46:21  \n",
       "270719 2016-04-07 09:44:54  \n",
       "341474 2016-03-18 18:46:15  "
      ]
     },
     "execution_count": 9,
     "metadata": {},
     "output_type": "execute_result"
    }
   ],
   "source": [
    "cars[cars.duplicated()]"
   ]
  },
  {
   "cell_type": "markdown",
   "id": "7c06455d",
   "metadata": {},
   "source": [
    "There are only 4 duplicates. Let's remove them:"
   ]
  },
  {
   "cell_type": "code",
   "execution_count": 10,
   "id": "4bed69a8",
   "metadata": {},
   "outputs": [
    {
     "data": {
      "text/plain": [
       "(371524, 20)"
      ]
     },
     "execution_count": 10,
     "metadata": {},
     "output_type": "execute_result"
    }
   ],
   "source": [
    "cars.drop_duplicates(inplace=True)\n",
    "cars.shape"
   ]
  },
  {
   "cell_type": "code",
   "execution_count": 11,
   "id": "3ff66614",
   "metadata": {
    "scrolled": true
   },
   "outputs": [
    {
     "data": {
      "text/plain": [
       "name                   233531\n",
       "seller                      2\n",
       "offerType                   2\n",
       "abtest                      2\n",
       "vehicleType                 8\n",
       "gearbox                     2\n",
       "model                     251\n",
       "monthOfRegistration        13\n",
       "fuelType                    7\n",
       "brand                      40\n",
       "notRepairedDamage           2\n",
       "postalCode               8150\n",
       "dtype: int64"
      ]
     },
     "execution_count": 11,
     "metadata": {},
     "output_type": "execute_result"
    }
   ],
   "source": [
    "cars.select_dtypes(['object', 'category']).nunique()"
   ]
  },
  {
   "cell_type": "markdown",
   "id": "8a5bf490",
   "metadata": {},
   "source": [
    "As expected, `name` has a very large number of distinct values because it is free text. For this variable to be useful, we would need to do some serious engineering to extract meaningful information, possibly even delving into Natural Language Processing, i.e. the science of making a machine \"understand\" human languages. This is outside the scope of this course so let's just drop this column."
   ]
  },
  {
   "cell_type": "code",
   "execution_count": 12,
   "id": "01f21da3",
   "metadata": {},
   "outputs": [],
   "source": [
    "del cars['name']"
   ]
  },
  {
   "cell_type": "markdown",
   "id": "eec54515",
   "metadata": {},
   "source": [
    "`postalCode` also has many unique values, so it was probably a good thing to import it as string rather than categorical. We will see later what to do with it, when we move on to the modelling part of this project.\n",
    "\n",
    "For now, let's check the unique values of our categorical variables:"
   ]
  },
  {
   "cell_type": "code",
   "execution_count": 13,
   "id": "d3cd347a",
   "metadata": {},
   "outputs": [
    {
     "name": "stdout",
     "output_type": "stream",
     "text": [
      "['private', 'commercial']\n",
      "Categories (2, object): ['private', 'commercial']\n",
      "seller\n",
      "private       371521\n",
      "commercial         3\n",
      "Name: count, dtype: int64 \n",
      "\n",
      "['selling', 'buying']\n",
      "Categories (2, object): ['buying', 'selling']\n",
      "offerType\n",
      "selling    371512\n",
      "buying         12\n",
      "Name: count, dtype: int64 \n",
      "\n",
      "['test', 'control']\n",
      "Categories (2, object): ['control', 'test']\n",
      "abtest\n",
      "test       192583\n",
      "control    178941\n",
      "Name: count, dtype: int64 \n",
      "\n",
      "[NaN, 'coupe', 'SUV', 'small car', 'sedan', 'convertible', 'people carrier', 'estate', 'other']\n",
      "Categories (8, object): ['SUV', 'convertible', 'coupe', 'estate', 'other', 'people carrier', 'sedan', 'small car']\n",
      "vehicleType\n",
      "sedan             95894\n",
      "small car         80022\n",
      "estate            67563\n",
      "people carrier    30201\n",
      "convertible       22898\n",
      "coupe             19013\n",
      "SUV               14707\n",
      "other              3357\n",
      "Name: count, dtype: int64 \n",
      "\n",
      "['manual', 'automatic', NaN]\n",
      "Categories (2, object): ['automatic', 'manual']\n",
      "gearbox\n",
      "manual       274212\n",
      "automatic     77103\n",
      "Name: count, dtype: int64 \n",
      "\n",
      "['golf', NaN, 'grand', 'fabia', '3er', ..., 'i3', 'kappa', 'serie_3', 'serie_1', 'discovery_sport']\n",
      "Length: 252\n",
      "Categories (251, object): ['100', '145', '147', '156', ..., 'kappa', 'serie_3', 'serie_1', 'discovery_sport']\n",
      "model\n",
      "golf               30070\n",
      "other              26399\n",
      "3er                20567\n",
      "polo               13092\n",
      "corsa              12573\n",
      "                   ...  \n",
      "serie_2                8\n",
      "rangerover             6\n",
      "serie_3                4\n",
      "serie_1                2\n",
      "discovery_sport        1\n",
      "Name: count, Length: 251, dtype: int64 \n",
      "\n",
      "['0', '5', '8', '6', '7', ..., '2', '3', '1', '4', '9']\n",
      "Length: 13\n",
      "Categories (13, object): ['0', '1', '10', '11', ..., '6', '7', '8', '9']\n",
      "monthOfRegistration\n",
      "0     37675\n",
      "3     36170\n",
      "6     33166\n",
      "4     30918\n",
      "5     30631\n",
      "7     28956\n",
      "10    27337\n",
      "11    25489\n",
      "12    25380\n",
      "9     25074\n",
      "1     24560\n",
      "8     23765\n",
      "2     22403\n",
      "Name: count, dtype: int64 \n",
      "\n",
      "['petrol', 'diesel', NaN, 'lpg', 'other', 'hybrid', 'cng', 'electric']\n",
      "Categories (7, object): ['cng', 'diesel', 'electric', 'hybrid', 'lpg', 'other', 'petrol']\n",
      "fuelType\n",
      "petrol      223854\n",
      "diesel      107745\n",
      "lpg           5378\n",
      "cng            571\n",
      "hybrid         278\n",
      "other          208\n",
      "electric       104\n",
      "Name: count, dtype: int64 \n",
      "\n",
      "['volkswagen', 'audi', 'jeep', 'skoda', 'bmw', ..., 'jaguar', 'daewoo', 'rover', 'land_rover', 'lada']\n",
      "Length: 40\n",
      "Categories (40, object): ['alfa_romeo', 'audi', 'bmw', 'chevrolet', ..., 'toyota', 'trabant', 'volkswagen', 'volvo']\n",
      "brand\n",
      "volkswagen       79639\n",
      "bmw              40274\n",
      "opel             40136\n",
      "mercedes_benz    35307\n",
      "audi             32873\n",
      "ford             25573\n",
      "renault          17969\n",
      "peugeot          11027\n",
      "fiat              9676\n",
      "seat              7022\n",
      "mazda             5695\n",
      "skoda             5641\n",
      "smart             5249\n",
      "citroen           5182\n",
      "nissan            5037\n",
      "toyota            4694\n",
      "other             3982\n",
      "hyundai           3646\n",
      "mini              3394\n",
      "volvo             3327\n",
      "mitsubishi        3061\n",
      "honda             2836\n",
      "kia               2555\n",
      "alfa_romeo        2345\n",
      "suzuki            2327\n",
      "porsche           2215\n",
      "chevrolet         1845\n",
      "chrysler          1452\n",
      "dacia              900\n",
      "jeep               807\n",
      "daihatsu           806\n",
      "subaru             779\n",
      "land_rover         770\n",
      "jaguar             621\n",
      "trabant            591\n",
      "daewoo             542\n",
      "saab               530\n",
      "rover              490\n",
      "lancia             484\n",
      "lada               225\n",
      "Name: count, dtype: int64 \n",
      "\n",
      "[NaN, 'yes', 'no']\n",
      "Categories (2, object): ['no', 'yes']\n",
      "notRepairedDamage\n",
      "no     263179\n",
      "yes     36285\n",
      "Name: count, dtype: int64 \n",
      "\n"
     ]
    }
   ],
   "source": [
    "for c in cars.select_dtypes(['category']).columns:\n",
    "    print(cars[c].unique())\n",
    "    print(cars[c].value_counts(), '\\n')"
   ]
  },
  {
   "cell_type": "markdown",
   "id": "99f3808f",
   "metadata": {},
   "source": [
    "`seller` and `offerType` both have two categories, of which one is overwhelmingly dominant (only 3 and 12 examples of the minority label, respectively). We can choose to ignore them, or to remove these minority labels entirely, which will not remove much data and might remove some noise, because it is fair to assume that a professional seller, or someone looking to buy rather than to sell, will offer a price that is outside of the main price distribution. The impact is likely to be minimal in either case, but removing them allows us to remove these two columns. Less columns is usually helpful as it helps models avoid overfitting and train faster."
   ]
  },
  {
   "cell_type": "code",
   "execution_count": 14,
   "id": "c796327d",
   "metadata": {},
   "outputs": [],
   "source": [
    "cars = cars.loc[(cars.seller=='private') & (cars.offerType=='selling')]"
   ]
  },
  {
   "cell_type": "code",
   "execution_count": 15,
   "id": "099dfd1e",
   "metadata": {},
   "outputs": [
    {
     "data": {
      "text/plain": [
       "(371509, 17)"
      ]
     },
     "execution_count": 15,
     "metadata": {},
     "output_type": "execute_result"
    }
   ],
   "source": [
    "del cars['seller']\n",
    "del cars['offerType']\n",
    "cars.shape"
   ]
  },
  {
   "cell_type": "markdown",
   "id": "c3b99318",
   "metadata": {},
   "source": [
    "We also notice a column called `abtest`. This is internal to eBay, and is an indicator used to direct sellers to one or the other versions of their website without them noticing, then to compare their behaviours to see if they are different. This is completely unrelated to our task here, so we can also remove this column, thus further reducing the dataset."
   ]
  },
  {
   "cell_type": "code",
   "execution_count": 16,
   "id": "45511153",
   "metadata": {},
   "outputs": [],
   "source": [
    "del cars['abtest']"
   ]
  },
  {
   "cell_type": "markdown",
   "id": "010d10ba",
   "metadata": {},
   "source": [
    "Now, let's look for missing data."
   ]
  },
  {
   "cell_type": "code",
   "execution_count": 17,
   "id": "dd7e6da8",
   "metadata": {},
   "outputs": [
    {
     "data": {
      "text/plain": [
       "dateCrawled            0.000000\n",
       "price                  0.000000\n",
       "vehicleType            0.101914\n",
       "yearOfRegistration     0.000000\n",
       "gearbox                0.054381\n",
       "powerPS                0.000000\n",
       "model                  0.055129\n",
       "kilometer              0.000000\n",
       "monthOfRegistration    0.000000\n",
       "fuelType               0.089847\n",
       "brand                  0.000000\n",
       "notRepairedDamage      0.193947\n",
       "dateCreated            0.000000\n",
       "nrOfPictures           0.000000\n",
       "postalCode             0.000000\n",
       "lastSeen               0.000000\n",
       "dtype: float64"
      ]
     },
     "execution_count": 17,
     "metadata": {},
     "output_type": "execute_result"
    }
   ],
   "source": [
    "cars.isnull().sum() / len(cars)"
   ]
  },
  {
   "cell_type": "markdown",
   "id": "49045c00",
   "metadata": {},
   "source": [
    "Several columns contain missing values, sometimes in high proportion (e.g. `notRepairedDamage`, almost 20%). What is surprising is that some fields such as `model` have missing values. eBay does not seem to make them mandatory, which contributes to adding noise to the data, besides probably making these ads very ineffective. We will have to think of a strategy to deal with these NaNs before building a model.\n",
    "\n",
    "We can also check for rows with lots of missing values:"
   ]
  },
  {
   "cell_type": "code",
   "execution_count": 18,
   "id": "6f9b005d",
   "metadata": {},
   "outputs": [
    {
     "data": {
      "text/plain": [
       "252504    5\n",
       "118047    5\n",
       "312893    5\n",
       "24819     5\n",
       "246394    5\n",
       "         ..\n",
       "189355    0\n",
       "189356    0\n",
       "189357    0\n",
       "189358    0\n",
       "371527    0\n",
       "Length: 371509, dtype: int64"
      ]
     },
     "execution_count": 18,
     "metadata": {},
     "output_type": "execute_result"
    }
   ],
   "source": [
    " cars.isnull().sum(axis=1).sort_values(ascending=False)"
   ]
  },
  {
   "cell_type": "markdown",
   "id": "ef0bb2b9",
   "metadata": {},
   "source": [
    "So far, we've only looked as \"official\" missing values. However, when we looked at the value counts for categorical variables, we noticed that `monthOfRegistration` had around 37,000 zeros and no NaNs. In actual terms, this is probably because users are not mandated to enter the registration month, so 0 means NaN. Let's make this explicit: "
   ]
  },
  {
   "cell_type": "code",
   "execution_count": 21,
   "id": "425701df",
   "metadata": {},
   "outputs": [],
   "source": [
    "cars.monthOfRegistration[cars.monthOfRegistration == '0'] = np.nan\n",
    "# Remove the category '0' from our categorical variable, since its count is zero:\n",
    "cars['monthOfRegistration'] = cars.monthOfRegistration.cat.remove_unused_categories()"
   ]
  },
  {
   "cell_type": "code",
   "execution_count": 22,
   "id": "c5af3b5f",
   "metadata": {},
   "outputs": [
    {
     "data": {
      "text/plain": [
       "monthOfRegistration\n",
       "3     36168\n",
       "6     33165\n",
       "4     30918\n",
       "5     30631\n",
       "7     28956\n",
       "10    27336\n",
       "11    25489\n",
       "12    25379\n",
       "9     25074\n",
       "1     24558\n",
       "8     23763\n",
       "2     22402\n",
       "Name: count, dtype: int64"
      ]
     },
     "execution_count": 22,
     "metadata": {},
     "output_type": "execute_result"
    }
   ],
   "source": [
    "cars.monthOfRegistration.value_counts()"
   ]
  },
  {
   "cell_type": "markdown",
   "id": "f6a1a7d5",
   "metadata": {},
   "source": [
    "Are there any other instances of incorrect NaN encoding among the numerical variables? We know there are no strings such as \"#NA\", \"NULL\", \"N/A\" etc. because these would have caused the columns to be imported as `object` data types. But there might be negative values or zeros in columns where they shouldn't happen. We can check the range (and other statistics) of each numerical variable with a one-liner:"
   ]
  },
  {
   "cell_type": "code",
   "execution_count": 23,
   "id": "df31cec0",
   "metadata": {
    "scrolled": true
   },
   "outputs": [
    {
     "data": {
      "text/html": [
       "<div>\n",
       "<style scoped>\n",
       "    .dataframe tbody tr th:only-of-type {\n",
       "        vertical-align: middle;\n",
       "    }\n",
       "\n",
       "    .dataframe tbody tr th {\n",
       "        vertical-align: top;\n",
       "    }\n",
       "\n",
       "    .dataframe thead th {\n",
       "        text-align: right;\n",
       "    }\n",
       "</style>\n",
       "<table border=\"1\" class=\"dataframe\">\n",
       "  <thead>\n",
       "    <tr style=\"text-align: right;\">\n",
       "      <th></th>\n",
       "      <th>dateCrawled</th>\n",
       "      <th>price</th>\n",
       "      <th>yearOfRegistration</th>\n",
       "      <th>powerPS</th>\n",
       "      <th>kilometer</th>\n",
       "      <th>dateCreated</th>\n",
       "      <th>nrOfPictures</th>\n",
       "      <th>lastSeen</th>\n",
       "    </tr>\n",
       "  </thead>\n",
       "  <tbody>\n",
       "    <tr>\n",
       "      <th>count</th>\n",
       "      <td>371509</td>\n",
       "      <td>3.715090e+05</td>\n",
       "      <td>371509.000000</td>\n",
       "      <td>371509.000000</td>\n",
       "      <td>371509.000000</td>\n",
       "      <td>371509</td>\n",
       "      <td>371509.0</td>\n",
       "      <td>371509</td>\n",
       "    </tr>\n",
       "    <tr>\n",
       "      <th>mean</th>\n",
       "      <td>2016-03-21 13:30:33.537021184</td>\n",
       "      <td>1.729586e+04</td>\n",
       "      <td>2004.578309</td>\n",
       "      <td>115.552250</td>\n",
       "      <td>125619.863853</td>\n",
       "      <td>2016-03-20 19:42:53.264174080</td>\n",
       "      <td>0.0</td>\n",
       "      <td>2016-03-30 03:38:02.284631040</td>\n",
       "    </tr>\n",
       "    <tr>\n",
       "      <th>min</th>\n",
       "      <td>2016-03-05 14:06:22</td>\n",
       "      <td>0.000000e+00</td>\n",
       "      <td>1000.000000</td>\n",
       "      <td>0.000000</td>\n",
       "      <td>5000.000000</td>\n",
       "      <td>2014-03-10 00:00:00</td>\n",
       "      <td>0.0</td>\n",
       "      <td>2016-03-05 14:15:08</td>\n",
       "    </tr>\n",
       "    <tr>\n",
       "      <th>25%</th>\n",
       "      <td>2016-03-13 12:51:45</td>\n",
       "      <td>1.150000e+03</td>\n",
       "      <td>1999.000000</td>\n",
       "      <td>70.000000</td>\n",
       "      <td>125000.000000</td>\n",
       "      <td>2016-03-13 00:00:00</td>\n",
       "      <td>0.0</td>\n",
       "      <td>2016-03-23 11:37:23</td>\n",
       "    </tr>\n",
       "    <tr>\n",
       "      <th>50%</th>\n",
       "      <td>2016-03-21 18:36:22</td>\n",
       "      <td>2.950000e+03</td>\n",
       "      <td>2003.000000</td>\n",
       "      <td>105.000000</td>\n",
       "      <td>150000.000000</td>\n",
       "      <td>2016-03-21 00:00:00</td>\n",
       "      <td>0.0</td>\n",
       "      <td>2016-04-03 23:17:22</td>\n",
       "    </tr>\n",
       "    <tr>\n",
       "      <th>75%</th>\n",
       "      <td>2016-03-29 14:49:40</td>\n",
       "      <td>7.200000e+03</td>\n",
       "      <td>2008.000000</td>\n",
       "      <td>150.000000</td>\n",
       "      <td>150000.000000</td>\n",
       "      <td>2016-03-29 00:00:00</td>\n",
       "      <td>0.0</td>\n",
       "      <td>2016-04-06 10:45:02</td>\n",
       "    </tr>\n",
       "    <tr>\n",
       "      <th>max</th>\n",
       "      <td>2016-04-07 14:36:58</td>\n",
       "      <td>2.147484e+09</td>\n",
       "      <td>9999.000000</td>\n",
       "      <td>20000.000000</td>\n",
       "      <td>150000.000000</td>\n",
       "      <td>2016-04-07 00:00:00</td>\n",
       "      <td>0.0</td>\n",
       "      <td>2016-04-07 14:58:51</td>\n",
       "    </tr>\n",
       "    <tr>\n",
       "      <th>std</th>\n",
       "      <td>NaN</td>\n",
       "      <td>3.588045e+06</td>\n",
       "      <td>92.868930</td>\n",
       "      <td>192.143444</td>\n",
       "      <td>40110.634643</td>\n",
       "      <td>NaN</td>\n",
       "      <td>0.0</td>\n",
       "      <td>NaN</td>\n",
       "    </tr>\n",
       "  </tbody>\n",
       "</table>\n",
       "</div>"
      ],
      "text/plain": [
       "                         dateCrawled         price  yearOfRegistration   \n",
       "count                         371509  3.715090e+05       371509.000000  \\\n",
       "mean   2016-03-21 13:30:33.537021184  1.729586e+04         2004.578309   \n",
       "min              2016-03-05 14:06:22  0.000000e+00         1000.000000   \n",
       "25%              2016-03-13 12:51:45  1.150000e+03         1999.000000   \n",
       "50%              2016-03-21 18:36:22  2.950000e+03         2003.000000   \n",
       "75%              2016-03-29 14:49:40  7.200000e+03         2008.000000   \n",
       "max              2016-04-07 14:36:58  2.147484e+09         9999.000000   \n",
       "std                              NaN  3.588045e+06           92.868930   \n",
       "\n",
       "             powerPS      kilometer                    dateCreated   \n",
       "count  371509.000000  371509.000000                         371509  \\\n",
       "mean      115.552250  125619.863853  2016-03-20 19:42:53.264174080   \n",
       "min         0.000000    5000.000000            2014-03-10 00:00:00   \n",
       "25%        70.000000  125000.000000            2016-03-13 00:00:00   \n",
       "50%       105.000000  150000.000000            2016-03-21 00:00:00   \n",
       "75%       150.000000  150000.000000            2016-03-29 00:00:00   \n",
       "max     20000.000000  150000.000000            2016-04-07 00:00:00   \n",
       "std       192.143444   40110.634643                            NaN   \n",
       "\n",
       "       nrOfPictures                       lastSeen  \n",
       "count      371509.0                         371509  \n",
       "mean            0.0  2016-03-30 03:38:02.284631040  \n",
       "min             0.0            2016-03-05 14:15:08  \n",
       "25%             0.0            2016-03-23 11:37:23  \n",
       "50%             0.0            2016-04-03 23:17:22  \n",
       "75%             0.0            2016-04-06 10:45:02  \n",
       "max             0.0            2016-04-07 14:58:51  \n",
       "std             0.0                            NaN  "
      ]
     },
     "execution_count": 23,
     "metadata": {},
     "output_type": "execute_result"
    }
   ],
   "source": [
    "cars.describe()  "
   ]
  },
  {
   "cell_type": "markdown",
   "id": "800c6dfd",
   "metadata": {},
   "source": [
    "This does not cover datetime variables, though, so we have to treat them separately:"
   ]
  },
  {
   "cell_type": "code",
   "execution_count": 24,
   "id": "beda2ede",
   "metadata": {},
   "outputs": [
    {
     "data": {
      "text/plain": [
       "dateCrawled   2016-03-05 14:06:22\n",
       "dateCreated   2014-03-10 00:00:00\n",
       "lastSeen      2016-03-05 14:15:08\n",
       "dtype: datetime64[ns]"
      ]
     },
     "execution_count": 24,
     "metadata": {},
     "output_type": "execute_result"
    }
   ],
   "source": [
    "cars.select_dtypes('datetime').min() "
   ]
  },
  {
   "cell_type": "code",
   "execution_count": 25,
   "id": "5eaa76a4",
   "metadata": {},
   "outputs": [
    {
     "data": {
      "text/plain": [
       "dateCrawled   2016-04-07 14:36:58\n",
       "dateCreated   2016-04-07 00:00:00\n",
       "lastSeen      2016-04-07 14:58:51\n",
       "dtype: datetime64[ns]"
      ]
     },
     "execution_count": 25,
     "metadata": {},
     "output_type": "execute_result"
    }
   ],
   "source": [
    "cars.select_dtypes('datetime').max()"
   ]
  },
  {
   "cell_type": "markdown",
   "id": "b274633b",
   "metadata": {},
   "source": [
    "First, we see that `nrOfPictures` has only zeros, which makes this variable completely useless. We can get rid of it. Compared to when we started, we already reduced the number of columns by 4, or 20%, with almost no loss of actual data."
   ]
  },
  {
   "cell_type": "code",
   "execution_count": 26,
   "id": "90dcaadc",
   "metadata": {},
   "outputs": [
    {
     "data": {
      "text/plain": [
       "(371509, 15)"
      ]
     },
     "execution_count": 26,
     "metadata": {},
     "output_type": "execute_result"
    }
   ],
   "source": [
    "del cars['nrOfPictures']\n",
    "cars.shape"
   ]
  },
  {
   "cell_type": "markdown",
   "id": "f3a4c43a",
   "metadata": {},
   "source": [
    " `price`, `powerPS`, and `yearOfRegistration` all have strange minimal values (0 for the first two, 1000 for the latter)."
   ]
  },
  {
   "cell_type": "code",
   "execution_count": 27,
   "id": "742ba72d",
   "metadata": {},
   "outputs": [
    {
     "data": {
      "image/png": "[encoded data removed]",
      "text/plain": [
       "<Figure size 640x480 with 1 Axes>"
      ]
     },
     "metadata": {},
     "output_type": "display_data"
    }
   ],
   "source": [
    "cars.price[cars.price < 5000].hist(bins=100);"
   ]
  },
  {
   "cell_type": "code",
   "execution_count": 28,
   "id": "09385bfc",
   "metadata": {},
   "outputs": [
    {
     "data": {
      "text/plain": [
       "10772"
      ]
     },
     "execution_count": 28,
     "metadata": {},
     "output_type": "execute_result"
    }
   ],
   "source": [
    "len(cars.price[cars.price == 0])"
   ]
  },
  {
   "cell_type": "markdown",
   "id": "e572f3ac",
   "metadata": {},
   "source": [
    "Price = 0 seems to be either a trick to attract customers, or more likely missing inputs (i.e. hidden NaNs). It is surprising again that eBay does not mandate a value here. Let's set these to NaN. Notice also that the price distribution has peaks just under each multiple of €500. This probably corresponds to \"psychological\" pricepoints (e.g. €9,900). But we are getting ahead of ourselves, we'll notice this again during EDA."
   ]
  },
  {
   "cell_type": "code",
   "execution_count": 30,
   "id": "4cc69ea9",
   "metadata": {},
   "outputs": [],
   "source": [
    "cars.loc[cars.price == 0, 'price'] = np.nan"
   ]
  },
  {
   "cell_type": "markdown",
   "id": "fcf0f504",
   "metadata": {},
   "source": [
    "What about the high end of the spectrum? Prices go all the way up to over €2 billion, which is completely unrealistic. This will warrant a careful outlier analysis during EDA, but they are probably not hidden NaNs so let's leave them aside for now.\n",
    "\n",
    "Let's move on to `powerPS`."
   ]
  },
  {
   "cell_type": "code",
   "execution_count": 31,
   "id": "6961c8e6",
   "metadata": {},
   "outputs": [
    {
     "data": {
      "text/plain": [
       "40811"
      ]
     },
     "execution_count": 31,
     "metadata": {},
     "output_type": "execute_result"
    }
   ],
   "source": [
    "len(cars.powerPS[cars.powerPS == 0])"
   ]
  },
  {
   "cell_type": "code",
   "execution_count": 32,
   "id": "11d6b293",
   "metadata": {},
   "outputs": [
    {
     "data": {
      "image/png": "[encoded data removed]",
      "text/plain": [
       "<Figure size 640x480 with 1 Axes>"
      ]
     },
     "metadata": {},
     "output_type": "display_data"
    }
   ],
   "source": [
    "cars.powerPS[cars.powerPS < 100].hist(bins=100);"
   ]
  },
  {
   "cell_type": "markdown",
   "id": "5b95cbf3",
   "metadata": {},
   "source": [
    "Again, powerPS = 0 seem to correspond to missing inputs. Let's set them to NaN:"
   ]
  },
  {
   "cell_type": "code",
   "execution_count": 33,
   "id": "759e979e",
   "metadata": {},
   "outputs": [],
   "source": [
    "cars.loc[cars.powerPS <= 0, 'powerPS'] = np.nan"
   ]
  },
  {
   "cell_type": "markdown",
   "id": "c0d0f4af",
   "metadata": {},
   "source": [
    "Once again, there are also unrealistic values at the top end of the spectrum, but as they are probably input errors rather than missing inputs, we will worry about them later."
   ]
  },
  {
   "cell_type": "markdown",
   "id": "0ea948ca",
   "metadata": {},
   "source": [
    "As for yearOfRegistration, there are again lots of strange looking values, with registration dates starting from 1000, which would be very surprising from a historical perspective:"
   ]
  },
  {
   "cell_type": "code",
   "execution_count": 34,
   "id": "7102a25f",
   "metadata": {
    "collapsed": true,
    "jupyter": {
     "outputs_hidden": true
    },
    "scrolled": true,
    "tags": []
   },
   "outputs": [
    {
     "data": {
      "image/png": "[encoded data removed]",
      "text/plain": [
       "<Figure size 640x480 with 1 Axes>"
      ]
     },
     "metadata": {},
     "output_type": "display_data"
    }
   ],
   "source": [
    "cars.yearOfRegistration.hist(bins=100)\n",
    "plt.yscale('log');"
   ]
  },
  {
   "cell_type": "markdown",
   "id": "5821799c",
   "metadata": {},
   "source": [
    "Let's bin these values into arbitrary bins:"
   ]
  },
  {
   "cell_type": "code",
   "execution_count": 35,
   "id": "9c35ae6a",
   "metadata": {},
   "outputs": [
    {
     "data": {
      "text/plain": [
       "yearOfRegistration\n",
       "[1000, 1900)         68\n",
       "[1900, 1950)        221\n",
       "[1950, 1960)        251\n",
       "[1960, 2016)     346431\n",
       "[2016, 2100)      24425\n",
       "[2100, 3000)         11\n",
       "[3000, 4000)         11\n",
       "[4000, 5000)          7\n",
       "[5000, 6000)         25\n",
       "[6000, 7000)          8\n",
       "[7000, 8000)          9\n",
       "[8000, 9000)          7\n",
       "[9000, 10000)        35\n",
       "Name: count, dtype: int64"
      ]
     },
     "execution_count": 35,
     "metadata": {},
     "output_type": "execute_result"
    }
   ],
   "source": [
    "bins = [1000, 1900, 1950, 1960, 2016, 2100, 3000, 4000, 5000, 6000, 7000, 8000, 9000, 10000]\n",
    "quantiles = pd.cut(cars.yearOfRegistration, bins, right=False)\n",
    "pd.value_counts(quantiles, sort=False)"
   ]
  },
  {
   "cell_type": "code",
   "execution_count": 36,
   "id": "9e821f28",
   "metadata": {},
   "outputs": [
    {
     "data": {
      "text/plain": [
       "(9858, 10546)"
      ]
     },
     "execution_count": 36,
     "metadata": {},
     "output_type": "execute_result"
    }
   ],
   "source": [
    "(len(cars.yearOfRegistration[cars.yearOfRegistration==2016]),\n",
    "len(cars.yearOfRegistration[cars.yearOfRegistration==2017]))"
   ]
  },
  {
   "cell_type": "markdown",
   "id": "39c850b2",
   "metadata": {},
   "source": [
    "Here, it is much less clear what values could be considered as NaNs. There are unrealistic values in every bin, and there is not a peak at 1000 or any other value, 2016 and 2017 excepted. However, some cars will have indeed been registered in 2016, so we cannot simply dismiss it as an NaN representation. As for 2017, it is doubtful that this would be the default value assigned when the user fails to input something.\n",
    "\n",
    "One way to address this problem is to analyse each of these examples and decide if they should be retained. A faster strategy would be to only retain the portion of the dataset that contains sensible values. We will make this decision during EDA. For now, let's keep everything as is."
   ]
  },
  {
   "cell_type": "code",
   "execution_count": 37,
   "id": "cf2bbacf",
   "metadata": {},
   "outputs": [
    {
     "data": {
      "text/html": [
       "<div>\n",
       "<style scoped>\n",
       "    .dataframe tbody tr th:only-of-type {\n",
       "        vertical-align: middle;\n",
       "    }\n",
       "\n",
       "    .dataframe tbody tr th {\n",
       "        vertical-align: top;\n",
       "    }\n",
       "\n",
       "    .dataframe thead th {\n",
       "        text-align: right;\n",
       "    }\n",
       "</style>\n",
       "<table border=\"1\" class=\"dataframe\">\n",
       "  <thead>\n",
       "    <tr style=\"text-align: right;\">\n",
       "      <th></th>\n",
       "      <th>dateCrawled</th>\n",
       "      <th>price</th>\n",
       "      <th>yearOfRegistration</th>\n",
       "      <th>powerPS</th>\n",
       "      <th>kilometer</th>\n",
       "      <th>dateCreated</th>\n",
       "      <th>lastSeen</th>\n",
       "    </tr>\n",
       "  </thead>\n",
       "  <tbody>\n",
       "    <tr>\n",
       "      <th>count</th>\n",
       "      <td>371509</td>\n",
       "      <td>3.607370e+05</td>\n",
       "      <td>371509.000000</td>\n",
       "      <td>330698.000000</td>\n",
       "      <td>371509.000000</td>\n",
       "      <td>371509</td>\n",
       "      <td>371509</td>\n",
       "    </tr>\n",
       "    <tr>\n",
       "      <th>mean</th>\n",
       "      <td>2016-03-21 13:30:33.537021184</td>\n",
       "      <td>1.781233e+04</td>\n",
       "      <td>2004.578309</td>\n",
       "      <td>129.812400</td>\n",
       "      <td>125619.863853</td>\n",
       "      <td>2016-03-20 19:42:53.264174080</td>\n",
       "      <td>2016-03-30 03:38:02.284631040</td>\n",
       "    </tr>\n",
       "    <tr>\n",
       "      <th>min</th>\n",
       "      <td>2016-03-05 14:06:22</td>\n",
       "      <td>1.000000e+00</td>\n",
       "      <td>1000.000000</td>\n",
       "      <td>1.000000</td>\n",
       "      <td>5000.000000</td>\n",
       "      <td>2014-03-10 00:00:00</td>\n",
       "      <td>2016-03-05 14:15:08</td>\n",
       "    </tr>\n",
       "    <tr>\n",
       "      <th>25%</th>\n",
       "      <td>2016-03-13 12:51:45</td>\n",
       "      <td>1.250000e+03</td>\n",
       "      <td>1999.000000</td>\n",
       "      <td>80.000000</td>\n",
       "      <td>125000.000000</td>\n",
       "      <td>2016-03-13 00:00:00</td>\n",
       "      <td>2016-03-23 11:37:23</td>\n",
       "    </tr>\n",
       "    <tr>\n",
       "      <th>50%</th>\n",
       "      <td>2016-03-21 18:36:22</td>\n",
       "      <td>3.000000e+03</td>\n",
       "      <td>2003.000000</td>\n",
       "      <td>116.000000</td>\n",
       "      <td>150000.000000</td>\n",
       "      <td>2016-03-21 00:00:00</td>\n",
       "      <td>2016-04-03 23:17:22</td>\n",
       "    </tr>\n",
       "    <tr>\n",
       "      <th>75%</th>\n",
       "      <td>2016-03-29 14:49:40</td>\n",
       "      <td>7.490000e+03</td>\n",
       "      <td>2008.000000</td>\n",
       "      <td>150.000000</td>\n",
       "      <td>150000.000000</td>\n",
       "      <td>2016-03-29 00:00:00</td>\n",
       "      <td>2016-04-06 10:45:02</td>\n",
       "    </tr>\n",
       "    <tr>\n",
       "      <th>max</th>\n",
       "      <td>2016-04-07 14:36:58</td>\n",
       "      <td>2.147484e+09</td>\n",
       "      <td>9999.000000</td>\n",
       "      <td>20000.000000</td>\n",
       "      <td>150000.000000</td>\n",
       "      <td>2016-04-07 00:00:00</td>\n",
       "      <td>2016-04-07 14:58:51</td>\n",
       "    </tr>\n",
       "    <tr>\n",
       "      <th>std</th>\n",
       "      <td>NaN</td>\n",
       "      <td>3.641222e+06</td>\n",
       "      <td>92.868930</td>\n",
       "      <td>199.058043</td>\n",
       "      <td>40110.634643</td>\n",
       "      <td>NaN</td>\n",
       "      <td>NaN</td>\n",
       "    </tr>\n",
       "  </tbody>\n",
       "</table>\n",
       "</div>"
      ],
      "text/plain": [
       "                         dateCrawled         price  yearOfRegistration   \n",
       "count                         371509  3.607370e+05       371509.000000  \\\n",
       "mean   2016-03-21 13:30:33.537021184  1.781233e+04         2004.578309   \n",
       "min              2016-03-05 14:06:22  1.000000e+00         1000.000000   \n",
       "25%              2016-03-13 12:51:45  1.250000e+03         1999.000000   \n",
       "50%              2016-03-21 18:36:22  3.000000e+03         2003.000000   \n",
       "75%              2016-03-29 14:49:40  7.490000e+03         2008.000000   \n",
       "max              2016-04-07 14:36:58  2.147484e+09         9999.000000   \n",
       "std                              NaN  3.641222e+06           92.868930   \n",
       "\n",
       "             powerPS      kilometer                    dateCreated   \n",
       "count  330698.000000  371509.000000                         371509  \\\n",
       "mean      129.812400  125619.863853  2016-03-20 19:42:53.264174080   \n",
       "min         1.000000    5000.000000            2014-03-10 00:00:00   \n",
       "25%        80.000000  125000.000000            2016-03-13 00:00:00   \n",
       "50%       116.000000  150000.000000            2016-03-21 00:00:00   \n",
       "75%       150.000000  150000.000000            2016-03-29 00:00:00   \n",
       "max     20000.000000  150000.000000            2016-04-07 00:00:00   \n",
       "std       199.058043   40110.634643                            NaN   \n",
       "\n",
       "                            lastSeen  \n",
       "count                         371509  \n",
       "mean   2016-03-30 03:38:02.284631040  \n",
       "min              2016-03-05 14:15:08  \n",
       "25%              2016-03-23 11:37:23  \n",
       "50%              2016-04-03 23:17:22  \n",
       "75%              2016-04-06 10:45:02  \n",
       "max              2016-04-07 14:58:51  \n",
       "std                              NaN  "
      ]
     },
     "execution_count": 37,
     "metadata": {},
     "output_type": "execute_result"
    }
   ],
   "source": [
    "cars.describe()"
   ]
  },
  {
   "cell_type": "markdown",
   "id": "689dc345",
   "metadata": {},
   "source": [
    "We can now store this dataset:"
   ]
  },
  {
   "cell_type": "code",
   "execution_count": 38,
   "id": "a67b0843",
   "metadata": {},
   "outputs": [],
   "source": [
    "cars.to_csv('data/autos_clean.csv', index=False)"
   ]
  },
  {
   "cell_type": "markdown",
   "id": "41805821",
   "metadata": {},
   "source": [
    "Congratulations, you now have a clean-ish dataset that can be further explored and analysed during EDA."
   ]
  }
 ],
 "metadata": {
  "kernelspec": {
   "display_name": "DS_Base",
   "language": "python",
   "name": "ds_base"
  },
  "language_info": {
   "codemirror_mode": {
    "name": "ipython",
    "version": 3
   },
   "file_extension": ".py",
   "mimetype": "text/x-python",
   "name": "python",
   "nbconvert_exporter": "python",
   "pygments_lexer": "ipython3",
   "version": "3.9.12"
  }
 },
 "nbformat": 4,
 "nbformat_minor": 5
}
